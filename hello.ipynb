{
  "nbformat": 4,
  "nbformat_minor": 0,
  "metadata": {
    "colab": {
      "provenance": [],
      "authorship_tag": "ABX9TyPNbLEV9RgDKVoZROqFHkYg",
      "include_colab_link": true
    },
    "kernelspec": {
      "name": "python3",
      "display_name": "Python 3"
    },
    "language_info": {
      "name": "python"
    }
  },
  "cells": [
    {
      "cell_type": "markdown",
      "metadata": {
        "id": "view-in-github",
        "colab_type": "text"
      },
      "source": [
        "<a href=\"https://colab.research.google.com/github/shihan201/shihan/blob/main/hello.ipynb\" target=\"_parent\"><img src=\"https://colab.research.google.com/assets/colab-badge.svg\" alt=\"Open In Colab\"/></a>"
      ]
    },
    {
      "cell_type": "code",
      "execution_count": null,
      "metadata": {
        "id": "eJUrMbwToIfX"
      },
      "outputs": [],
      "source": [
        "print('Hello!')"
      ]
    },
    {
      "cell_type": "code",
      "source": [
        "print('你好!')"
      ],
      "metadata": {
        "id": "ythSMRTsoWyE"
      },
      "execution_count": null,
      "outputs": []
    },
    {
      "cell_type": "code",
      "source": [
        "print('今天是3/1!')"
      ],
      "metadata": {
        "id": "nTjF-lxPof5y"
      },
      "execution_count": null,
      "outputs": []
    },
    {
      "cell_type": "code",
      "source": [
        "ptint('411650731 黃詩涵')"
      ],
      "metadata": {
        "id": "qZryYuPKopPi"
      },
      "execution_count": null,
      "outputs": []
    }
  ]
}