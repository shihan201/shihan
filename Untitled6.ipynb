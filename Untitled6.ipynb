{
  "nbformat": 4,
  "nbformat_minor": 0,
  "metadata": {
    "colab": {
      "provenance": [],
      "authorship_tag": "ABX9TyNehGiZDTEpkrYUFNOumDU7",
      "include_colab_link": true
    },
    "kernelspec": {
      "name": "python3",
      "display_name": "Python 3"
    },
    "language_info": {
      "name": "python"
    }
  },
  "cells": [
    {
      "cell_type": "markdown",
      "metadata": {
        "id": "view-in-github",
        "colab_type": "text"
      },
      "source": [
        "<a href=\"https://colab.research.google.com/github/shihan201/shihan/blob/main/Untitled6.ipynb\" target=\"_parent\"><img src=\"https://colab.research.google.com/assets/colab-badge.svg\" alt=\"Open In Colab\"/></a>"
      ]
    },
    {
      "cell_type": "markdown",
      "source": [
        "1.print文字"
      ],
      "metadata": {
        "id": "VlakMtmfOtQu"
      }
    },
    {
      "cell_type": "code",
      "source": [
        "a = input()\n",
        "print(a)"
      ],
      "metadata": {
        "colab": {
          "base_uri": "https://localhost:8080/"
        },
        "id": "uedoubAqO5d8",
        "outputId": "715eac67-9880-4bfd-ce6e-31c90ff16f56"
      },
      "execution_count": 3,
      "outputs": [
        {
          "output_type": "stream",
          "name": "stdout",
          "text": [
            "panda\n",
            "panda\n"
          ]
        }
      ]
    },
    {
      "cell_type": "markdown",
      "source": [
        "2.取得字串長度"
      ],
      "metadata": {
        "id": "tjwMnoBbPIMz"
      }
    },
    {
      "cell_type": "code",
      "source": [
        "a = input()\n",
        "print(len(a))"
      ],
      "metadata": {
        "colab": {
          "base_uri": "https://localhost:8080/"
        },
        "id": "DT-H7AkAPPw7",
        "outputId": "f76ca190-35e2-4bc6-bff4-4540f2b0c80e"
      },
      "execution_count": 4,
      "outputs": [
        {
          "output_type": "stream",
          "name": "stdout",
          "text": [
            "panda\n",
            "5\n"
          ]
        }
      ]
    },
    {
      "cell_type": "markdown",
      "source": [
        "3.BMI計算"
      ],
      "metadata": {
        "id": "81MuEWY8Pa0L"
      }
    },
    {
      "cell_type": "code",
      "source": [
        "h,w = input().split()\n",
        "new_h = int(h)\n",
        "new_w = int(w)\n",
        "m_h = new_h / 100\n",
        "bmi = new_w / m_h**2\n",
        "print(\"%.2f\" % bmi)"
      ],
      "metadata": {
        "colab": {
          "base_uri": "https://localhost:8080/"
        },
        "id": "GDG8uxxyPdkO",
        "outputId": "fa25b669-3cdc-4f77-b053-d9df54971a1c"
      },
      "execution_count": 8,
      "outputs": [
        {
          "output_type": "stream",
          "name": "stdout",
          "text": [
            "180 70\n",
            "21.60\n"
          ]
        }
      ]
    },
    {
      "cell_type": "markdown",
      "source": [
        "4.給一個正整數計算10到那個數的和"
      ],
      "metadata": {
        "id": "tYHXo815QV2W"
      }
    },
    {
      "cell_type": "code",
      "source": [
        "a = int(input())\n",
        "totalA = 0\n",
        "for i in range (10,a+1):\n",
        "  totalA += i\n",
        "print(totalA)"
      ],
      "metadata": {
        "colab": {
          "base_uri": "https://localhost:8080/"
        },
        "id": "Mru2AZANQWGj",
        "outputId": "2141bbb0-b2f2-4ecf-ed2a-69c2f0a62faf"
      },
      "execution_count": 13,
      "outputs": [
        {
          "output_type": "stream",
          "name": "stdout",
          "text": [
            "89\n",
            "3960\n"
          ]
        }
      ]
    }
  ]
}